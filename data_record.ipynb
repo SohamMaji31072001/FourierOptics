{
 "cells": [
  {
   "cell_type": "code",
   "execution_count": null,
   "metadata": {},
   "outputs": [],
   "source": [
    "import serial\n",
    "\n",
    "ser = serial.Serial('COMx', 9600)  # Replace 'COMx' with the actual serial port\n",
    "\n",
    "with open('data.csv', 'w') as file:\n",
    "    file.write(\"Time,Count Signal 1,Count Signal 2,Count Both Signals\\n\")\n",
    "    \n",
    "    while True:\n",
    "        line = ser.readline().decode().strip()\n",
    "        if line.startswith(\"Recording finished.\"):\n",
    "            break\n",
    "        file.write(line + '\\n')\n",
    "        file.flush()\n",
    "\n",
    "print(\"Data collection completed.\")\n",
    "\n"
   ]
  }
 ],
 "metadata": {
  "kernelspec": {
   "display_name": "Python 3",
   "language": "python",
   "name": "python3"
  },
  "language_info": {
   "codemirror_mode": {
    "name": "ipython",
    "version": 3
   },
   "file_extension": ".py",
   "mimetype": "text/x-python",
   "name": "python",
   "nbconvert_exporter": "python",
   "pygments_lexer": "ipython3",
   "version": "3.9.13"
  },
  "orig_nbformat": 4
 },
 "nbformat": 4,
 "nbformat_minor": 2
}
